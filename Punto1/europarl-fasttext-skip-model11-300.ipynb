{
 "cells": [
  {
   "cell_type": "code",
   "execution_count": 1,
   "id": "4f7f85d3",
   "metadata": {
    "_cell_guid": "b1076dfc-b9ad-4769-8c92-a6c4dae69d19",
    "_uuid": "8f2839f25d086af736a60e9eeb907d3b93b6e0e5",
    "execution": {
     "iopub.execute_input": "2024-11-16T22:52:51.940583Z",
     "iopub.status.busy": "2024-11-16T22:52:51.940120Z",
     "iopub.status.idle": "2024-11-16T22:52:52.921439Z",
     "shell.execute_reply": "2024-11-16T22:52:52.920305Z"
    },
    "papermill": {
     "duration": 0.991249,
     "end_time": "2024-11-16T22:52:52.924347",
     "exception": false,
     "start_time": "2024-11-16T22:52:51.933098",
     "status": "completed"
    },
    "tags": []
   },
   "outputs": [
    {
     "name": "stdout",
     "output_type": "stream",
     "text": [
      "/kaggle/input/europarl-es/europarl-v7.es-en.es\n",
      "/kaggle/input/jrc-es/JRC.txt\n"
     ]
    }
   ],
   "source": [
    "# This Python 3 environment comes with many helpful analytics libraries installed\n",
    "# It is defined by the kaggle/python Docker image: https://github.com/kaggle/docker-python\n",
    "# For example, here's several helpful packages to load\n",
    "\n",
    "import numpy as np # linear algebra\n",
    "import pandas as pd # data processing, CSV file I/O (e.g. pd.read_csv)\n",
    "\n",
    "# Input data files are available in the read-only \"../input/\" directory\n",
    "# For example, running this (by clicking run or pressing Shift+Enter) will list all files under the input directory\n",
    "\n",
    "import os\n",
    "for dirname, _, filenames in os.walk('/kaggle/input'):\n",
    "    for filename in filenames:\n",
    "        print(os.path.join(dirname, filename))\n",
    "\n",
    "# You can write up to 20GB to the current directory (/kaggle/working/) that gets preserved as output when you create a version using \"Save & Run All\" \n",
    "# You can also write temporary files to /kaggle/temp/, but they won't be saved outside of the current session"
   ]
  },
  {
   "cell_type": "markdown",
   "id": "9a06e9e8",
   "metadata": {
    "papermill": {
     "duration": 0.004583,
     "end_time": "2024-11-16T22:52:52.934320",
     "exception": false,
     "start_time": "2024-11-16T22:52:52.929737",
     "status": "completed"
    },
    "tags": []
   },
   "source": [
    "# DATASETS"
   ]
  },
  {
   "cell_type": "code",
   "execution_count": 2,
   "id": "b5447dad",
   "metadata": {
    "execution": {
     "iopub.execute_input": "2024-11-16T22:52:52.945843Z",
     "iopub.status.busy": "2024-11-16T22:52:52.945222Z",
     "iopub.status.idle": "2024-11-16T22:53:09.276659Z",
     "shell.execute_reply": "2024-11-16T22:53:09.275251Z"
    },
    "papermill": {
     "duration": 16.3409,
     "end_time": "2024-11-16T22:53:09.279946",
     "exception": false,
     "start_time": "2024-11-16T22:52:52.939046",
     "status": "completed"
    },
    "tags": []
   },
   "outputs": [
    {
     "name": "stdout",
     "output_type": "stream",
     "text": [
      "Requirement already satisfied: datasets in /opt/conda/lib/python3.10/site-packages (3.0.1)\r\n",
      "Requirement already satisfied: filelock in /opt/conda/lib/python3.10/site-packages (from datasets) (3.15.1)\r\n",
      "Requirement already satisfied: numpy>=1.17 in /opt/conda/lib/python3.10/site-packages (from datasets) (1.26.4)\r\n",
      "Requirement already satisfied: pyarrow>=15.0.0 in /opt/conda/lib/python3.10/site-packages (from datasets) (17.0.0)\r\n",
      "Requirement already satisfied: dill<0.3.9,>=0.3.0 in /opt/conda/lib/python3.10/site-packages (from datasets) (0.3.8)\r\n",
      "Requirement already satisfied: pandas in /opt/conda/lib/python3.10/site-packages (from datasets) (2.2.3)\r\n",
      "Requirement already satisfied: requests>=2.32.2 in /opt/conda/lib/python3.10/site-packages (from datasets) (2.32.3)\r\n",
      "Requirement already satisfied: tqdm>=4.66.3 in /opt/conda/lib/python3.10/site-packages (from datasets) (4.66.4)\r\n",
      "Requirement already satisfied: xxhash in /opt/conda/lib/python3.10/site-packages (from datasets) (3.4.1)\r\n",
      "Requirement already satisfied: multiprocess in /opt/conda/lib/python3.10/site-packages (from datasets) (0.70.16)\r\n",
      "Requirement already satisfied: fsspec<=2024.6.1,>=2023.1.0 in /opt/conda/lib/python3.10/site-packages (from fsspec[http]<=2024.6.1,>=2023.1.0->datasets) (2024.6.1)\r\n",
      "Requirement already satisfied: aiohttp in /opt/conda/lib/python3.10/site-packages (from datasets) (3.9.5)\r\n",
      "Requirement already satisfied: huggingface-hub>=0.22.0 in /opt/conda/lib/python3.10/site-packages (from datasets) (0.25.1)\r\n",
      "Requirement already satisfied: packaging in /opt/conda/lib/python3.10/site-packages (from datasets) (21.3)\r\n",
      "Requirement already satisfied: pyyaml>=5.1 in /opt/conda/lib/python3.10/site-packages (from datasets) (6.0.2)\r\n",
      "Requirement already satisfied: aiosignal>=1.1.2 in /opt/conda/lib/python3.10/site-packages (from aiohttp->datasets) (1.3.1)\r\n",
      "Requirement already satisfied: attrs>=17.3.0 in /opt/conda/lib/python3.10/site-packages (from aiohttp->datasets) (23.2.0)\r\n",
      "Requirement already satisfied: frozenlist>=1.1.1 in /opt/conda/lib/python3.10/site-packages (from aiohttp->datasets) (1.4.1)\r\n",
      "Requirement already satisfied: multidict<7.0,>=4.5 in /opt/conda/lib/python3.10/site-packages (from aiohttp->datasets) (6.0.5)\r\n",
      "Requirement already satisfied: yarl<2.0,>=1.0 in /opt/conda/lib/python3.10/site-packages (from aiohttp->datasets) (1.9.4)\r\n",
      "Requirement already satisfied: async-timeout<5.0,>=4.0 in /opt/conda/lib/python3.10/site-packages (from aiohttp->datasets) (4.0.3)\r\n",
      "Requirement already satisfied: typing-extensions>=3.7.4.3 in /opt/conda/lib/python3.10/site-packages (from huggingface-hub>=0.22.0->datasets) (4.12.2)\r\n",
      "Requirement already satisfied: pyparsing!=3.0.5,>=2.0.2 in /opt/conda/lib/python3.10/site-packages (from packaging->datasets) (3.1.2)\r\n",
      "Requirement already satisfied: charset-normalizer<4,>=2 in /opt/conda/lib/python3.10/site-packages (from requests>=2.32.2->datasets) (3.3.2)\r\n",
      "Requirement already satisfied: idna<4,>=2.5 in /opt/conda/lib/python3.10/site-packages (from requests>=2.32.2->datasets) (3.7)\r\n",
      "Requirement already satisfied: urllib3<3,>=1.21.1 in /opt/conda/lib/python3.10/site-packages (from requests>=2.32.2->datasets) (1.26.18)\r\n",
      "Requirement already satisfied: certifi>=2017.4.17 in /opt/conda/lib/python3.10/site-packages (from requests>=2.32.2->datasets) (2024.8.30)\r\n",
      "Requirement already satisfied: python-dateutil>=2.8.2 in /opt/conda/lib/python3.10/site-packages (from pandas->datasets) (2.9.0.post0)\r\n",
      "Requirement already satisfied: pytz>=2020.1 in /opt/conda/lib/python3.10/site-packages (from pandas->datasets) (2024.1)\r\n",
      "Requirement already satisfied: tzdata>=2022.7 in /opt/conda/lib/python3.10/site-packages (from pandas->datasets) (2024.1)\r\n",
      "Requirement already satisfied: six>=1.5 in /opt/conda/lib/python3.10/site-packages (from python-dateutil>=2.8.2->pandas->datasets) (1.16.0)\r\n"
     ]
    }
   ],
   "source": [
    "!pip install datasets"
   ]
  },
  {
   "cell_type": "markdown",
   "id": "07ea8e32",
   "metadata": {
    "papermill": {
     "duration": 0.005228,
     "end_time": "2024-11-16T22:53:09.291134",
     "exception": false,
     "start_time": "2024-11-16T22:53:09.285906",
     "status": "completed"
    },
    "tags": []
   },
   "source": [
    "# LOAD SPACY"
   ]
  },
  {
   "cell_type": "code",
   "execution_count": 3,
   "id": "2ea1060d",
   "metadata": {
    "execution": {
     "iopub.execute_input": "2024-11-16T22:53:09.304279Z",
     "iopub.status.busy": "2024-11-16T22:53:09.303786Z",
     "iopub.status.idle": "2024-11-16T22:53:31.508848Z",
     "shell.execute_reply": "2024-11-16T22:53:31.507462Z"
    },
    "papermill": {
     "duration": 22.215241,
     "end_time": "2024-11-16T22:53:31.511873",
     "exception": false,
     "start_time": "2024-11-16T22:53:09.296632",
     "status": "completed"
    },
    "tags": []
   },
   "outputs": [
    {
     "name": "stdout",
     "output_type": "stream",
     "text": [
      "Collecting es-core-news-sm==3.8.0\r\n",
      "  Downloading https://github.com/explosion/spacy-models/releases/download/es_core_news_sm-3.8.0/es_core_news_sm-3.8.0-py3-none-any.whl (12.9 MB)\r\n",
      "\u001b[2K     \u001b[90m━━━━━━━━━━━━━━━━━━━━━━━━━━━━━━━━━━━━━━━━\u001b[0m \u001b[32m12.9/12.9 MB\u001b[0m \u001b[31m48.9 MB/s\u001b[0m eta \u001b[36m0:00:00\u001b[0m\r\n",
      "\u001b[?25hInstalling collected packages: es-core-news-sm\r\n",
      "Successfully installed es-core-news-sm-3.8.0\r\n",
      "\u001b[38;5;2m✔ Download and installation successful\u001b[0m\r\n",
      "You can now load the package via spacy.load('es_core_news_sm')\r\n"
     ]
    }
   ],
   "source": [
    "!python -m spacy download es_core_news_sm"
   ]
  },
  {
   "cell_type": "code",
   "execution_count": 4,
   "id": "a6da3e99",
   "metadata": {
    "execution": {
     "iopub.execute_input": "2024-11-16T22:53:31.529113Z",
     "iopub.status.busy": "2024-11-16T22:53:31.527820Z",
     "iopub.status.idle": "2024-11-16T22:53:35.799739Z",
     "shell.execute_reply": "2024-11-16T22:53:35.797489Z"
    },
    "papermill": {
     "duration": 4.284829,
     "end_time": "2024-11-16T22:53:35.804011",
     "exception": false,
     "start_time": "2024-11-16T22:53:31.519182",
     "status": "completed"
    },
    "tags": []
   },
   "outputs": [],
   "source": [
    "import spacy\n",
    "from tqdm import tqdm\n",
    "from spacy.lang.es.stop_words import STOP_WORDS\n",
    "import time\n",
    "\n",
    "nlp = spacy.load(\"es_core_news_sm\")"
   ]
  },
  {
   "cell_type": "markdown",
   "id": "23e44141",
   "metadata": {
    "papermill": {
     "duration": 0.009137,
     "end_time": "2024-11-16T22:53:35.823788",
     "exception": false,
     "start_time": "2024-11-16T22:53:35.814651",
     "status": "completed"
    },
    "tags": []
   },
   "source": [
    "# TOKENIZATION"
   ]
  },
  {
   "cell_type": "code",
   "execution_count": 5,
   "id": "a90c4d13",
   "metadata": {
    "execution": {
     "iopub.execute_input": "2024-11-16T22:53:35.846903Z",
     "iopub.status.busy": "2024-11-16T22:53:35.845939Z",
     "iopub.status.idle": "2024-11-16T22:53:49.603908Z",
     "shell.execute_reply": "2024-11-16T22:53:49.602449Z"
    },
    "papermill": {
     "duration": 13.772527,
     "end_time": "2024-11-16T22:53:49.606948",
     "exception": false,
     "start_time": "2024-11-16T22:53:35.834421",
     "status": "completed"
    },
    "tags": []
   },
   "outputs": [
    {
     "name": "stdout",
     "output_type": "stream",
     "text": [
      "Requirement already satisfied: tqdm in /opt/conda/lib/python3.10/site-packages (4.66.4)\r\n"
     ]
    }
   ],
   "source": [
    "!pip install tqdm"
   ]
  },
  {
   "cell_type": "code",
   "execution_count": 6,
   "id": "700a5e81",
   "metadata": {
    "execution": {
     "iopub.execute_input": "2024-11-16T22:53:49.623461Z",
     "iopub.status.busy": "2024-11-16T22:53:49.622408Z",
     "iopub.status.idle": "2024-11-16T22:53:49.631827Z",
     "shell.execute_reply": "2024-11-16T22:53:49.630773Z"
    },
    "papermill": {
     "duration": 0.020252,
     "end_time": "2024-11-16T22:53:49.634182",
     "exception": false,
     "start_time": "2024-11-16T22:53:49.613930",
     "status": "completed"
    },
    "tags": []
   },
   "outputs": [],
   "source": [
    "import re\n",
    "import string\n",
    "\n",
    "# CLEAN SENTENCES\n",
    "def clean_sentence(sent):\n",
    "    # StopWords\n",
    "    new_sentence = [token.text for token in sent if not token.is_stop]\n",
    "    # Digitos\n",
    "    new_sentence = [w for w in new_sentence if not w.isdigit()]\n",
    "    new_sentence = [re.sub(r'[0-9]', '', w) for w in new_sentence]\n",
    "    # puntuacion y vacíos\n",
    "    new_sentence = [re.sub(\"\\!|\\'|\\?|\\¿|\\¡|\\«|\\»|\\—\", \"\", w) for w in new_sentence]\n",
    "    re_punc = re.compile('[%s]' % re.escape(string.punctuation))\n",
    "    new_sentence = [re_punc.sub('', w) for w in new_sentence]\n",
    "    new_sentence = [w for w in new_sentence if w.strip()]\n",
    "    return new_sentence"
   ]
  },
  {
   "cell_type": "code",
   "execution_count": 7,
   "id": "179069fc",
   "metadata": {
    "execution": {
     "iopub.execute_input": "2024-11-16T22:53:49.650718Z",
     "iopub.status.busy": "2024-11-16T22:53:49.650288Z",
     "iopub.status.idle": "2024-11-16T22:53:49.663269Z",
     "shell.execute_reply": "2024-11-16T22:53:49.662139Z"
    },
    "papermill": {
     "duration": 0.023568,
     "end_time": "2024-11-16T22:53:49.665694",
     "exception": false,
     "start_time": "2024-11-16T22:53:49.642126",
     "status": "completed"
    },
    "tags": []
   },
   "outputs": [],
   "source": [
    "from tqdm import tqdm\n",
    "\n",
    "europarl_file_path=\"/kaggle/input/europarl-es/europarl-v7.es-en.es\"\n",
    "jrc_file_path=\"/kaggle/input/jrc-es/JRC.txt\"\n",
    "\n",
    "def unique_words_sentences():\n",
    "    watched_words = set()  # Conjunto para palabras ya vistas\n",
    "    result = []  # Lista de listas para oraciones únicas\n",
    "    # Procesar europarl\n",
    "    with open(europarl_file_path, 'r', encoding='utf-8') as europar_file:\n",
    "        num_lines_europarl = 100#sum(1 for _ in europar_file)\n",
    "    with open(europarl_file_path, 'r', encoding='utf-8') as europar_file:\n",
    "        for i, line in enumerate(tqdm(europar_file, desc=\"Procesando europarl\", total=num_lines_europarl)):\n",
    "            if i > num_lines_europarl:\n",
    "                break\n",
    "            sent_tokens = nlp(line.strip())  # Procesar la línea con spacy\n",
    "            clean_sent = clean_sentence(sent_tokens)  # Limpiar los tokens\n",
    "            sublist = []\n",
    "            for word in clean_sent:\n",
    "                if word not in watched_words:  # Añadir solo si no ha sido vista\n",
    "                    watched_words.add(word)\n",
    "                    sublist.append(word)\n",
    "            if sublist:  # Solo añadir si la sublista no está vacía\n",
    "                result.append(sublist)\n",
    "\n",
    "    # Procesar jrc\n",
    "    with open(jrc_file_path, 'r', encoding='utf-8') as jrc_file:\n",
    "        num_lines_jrc = 100#sum(1 for _ in jrc_file)\n",
    "    with open(jrc_file_path, 'r', encoding='utf-8') as jrc_file:\n",
    "        for i, line in enumerate(tqdm(jrc_file, desc=\"Procesando jrc\", total=num_lines_jrc)):\n",
    "            if i > num_lines_jrc:\n",
    "                break\n",
    "            sent_tokens = nlp(line.strip())  # Procesar la línea con spacy\n",
    "            clean_sent = clean_sentence(sent_tokens)  # Limpiar los tokens\n",
    "            sublist = []\n",
    "            for word in clean_sent:\n",
    "                if word not in watched_words:  # Añadir solo si no ha sido vista\n",
    "                    watched_words.add(word)\n",
    "                    sublist.append(word)\n",
    "            if sublist:  # Solo añadir si la sublista no está vacía\n",
    "                result.append(sublist)\n",
    "                \n",
    "    return result"
   ]
  },
  {
   "cell_type": "markdown",
   "id": "d4b18a1a",
   "metadata": {
    "papermill": {
     "duration": 0.006586,
     "end_time": "2024-11-16T22:53:49.679309",
     "exception": false,
     "start_time": "2024-11-16T22:53:49.672723",
     "status": "completed"
    },
    "tags": []
   },
   "source": [
    "# FASTTEXT"
   ]
  },
  {
   "cell_type": "code",
   "execution_count": 8,
   "id": "9cf119ee",
   "metadata": {
    "execution": {
     "iopub.execute_input": "2024-11-16T22:53:49.695156Z",
     "iopub.status.busy": "2024-11-16T22:53:49.694327Z",
     "iopub.status.idle": "2024-11-16T22:54:11.754114Z",
     "shell.execute_reply": "2024-11-16T22:54:11.752856Z"
    },
    "papermill": {
     "duration": 22.070903,
     "end_time": "2024-11-16T22:54:11.757088",
     "exception": false,
     "start_time": "2024-11-16T22:53:49.686185",
     "status": "completed"
    },
    "tags": []
   },
   "outputs": [
    {
     "name": "stderr",
     "output_type": "stream",
     "text": [
      "Procesando europarl: 101it [00:01, 84.88it/s]                        \n",
      "Procesando jrc: 101it [00:00, 106.73it/s]                        \n"
     ]
    }
   ],
   "source": [
    "from gensim.models import FastText\n",
    "from gensim.test.utils import common_texts  # some example sentences\n",
    "from gensim.models.word2vec import Word2Vec\n",
    "import os\n",
    "import sys\n",
    "import multiprocessing\n",
    "import pickle\n",
    "from gensim.models import FastText\n",
    "num_features = [300]                      #Dimensionality of the resulting word vectors\n",
    "min_word_count = 1\n",
    "sg=1                      #Minimum word count threshold\n",
    "num_workers = multiprocessing.cpu_count() #Number of threads to run in parallel\n",
    "context_size = 5                          #Context window length\n",
    "seed = 1\n",
    "for p in num_features:\n",
    "    fasttext_model = FastText(\n",
    "        sentences=unique_words_sentences(),\n",
    "        vector_size=300,\n",
    "        window=context_size,\n",
    "        min_count=min_word_count,\n",
    "        workers=num_workers,\n",
    "        sg=1                              #skipgram\n",
    "    )\n",
    "\n",
    "    fasttext_model.wv.save_word2vec_format('/kaggle/working/Europarl_fasttext_skip_model11_' + str(p) +  '.txt', binary=False)"
   ]
  }
 ],
 "metadata": {
  "kaggle": {
   "accelerator": "none",
   "dataSources": [
    {
     "datasetId": 6101849,
     "sourceId": 9927279,
     "sourceType": "datasetVersion"
    },
    {
     "datasetId": 6101927,
     "sourceId": 9927401,
     "sourceType": "datasetVersion"
    }
   ],
   "dockerImageVersionId": 30786,
   "isGpuEnabled": false,
   "isInternetEnabled": true,
   "language": "python",
   "sourceType": "notebook"
  },
  "kernelspec": {
   "display_name": "Python 3",
   "language": "python",
   "name": "python3"
  },
  "language_info": {
   "codemirror_mode": {
    "name": "ipython",
    "version": 3
   },
   "file_extension": ".py",
   "mimetype": "text/x-python",
   "name": "python",
   "nbconvert_exporter": "python",
   "pygments_lexer": "ipython3",
   "version": "3.10.14"
  },
  "papermill": {
   "default_parameters": {},
   "duration": 85.954904,
   "end_time": "2024-11-16T22:54:14.300583",
   "environment_variables": {},
   "exception": null,
   "input_path": "__notebook__.ipynb",
   "output_path": "__notebook__.ipynb",
   "parameters": {},
   "start_time": "2024-11-16T22:52:48.345679",
   "version": "2.6.0"
  }
 },
 "nbformat": 4,
 "nbformat_minor": 5
}
